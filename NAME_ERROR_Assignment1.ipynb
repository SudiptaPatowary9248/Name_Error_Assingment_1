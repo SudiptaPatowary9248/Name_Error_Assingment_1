{
 "cells": [
  {
   "cell_type": "code",
   "execution_count": 1,
   "metadata": {},
   "outputs": [],
   "source": [
    "def area(*args):\n",
    "    if len(args)==2:\n",
    "        a=args[1]**2\n",
    "    elif args[0]=='Rectangle':\n",
    "        a=args[1]*args[2]\n",
    "    elif args[0]=='Parallelogram':\n",
    "        a=args[1]*args[2]\n",
    "    elif args[0]=='Rhombus':\n",
    "        a=args[1]*args[2]/2\n",
    "    else:\n",
    "        pass\n",
    "    print(\"Area of the {0} is {1}\\n\".format(args[0],str(a)))"
   ]
  },
  {
   "cell_type": "code",
   "execution_count": 2,
   "metadata": {},
   "outputs": [],
   "source": [
    "def perimeter(*args):\n",
    "    if len(args)==2:\n",
    "        p=4*args[1]\n",
    "    elif len(args)==3:\n",
    "        p=2*(args[1]+args[2])\n",
    "    else:\n",
    "        pass\n",
    "    print(\"Perimeter of the {0} is {1}\\n\".format(args[0],str(p)))"
   ]
  },
  {
   "cell_type": "code",
   "execution_count": 3,
   "metadata": {},
   "outputs": [],
   "source": [
    "c=1"
   ]
  },
  {
   "cell_type": "code",
   "execution_count": null,
   "metadata": {},
   "outputs": [],
   "source": [
    "while(c):\n",
    "    c=int(input(\"Select 1 for area, 2 for perimeter: \"))\n",
    "    if c==1:\n",
    "        x=input(\"Enter the type of quadrilateral: \")\n",
    "        if x==\"Square\":\n",
    "            s=int(input(\"Enter side: \"))\n",
    "            area(x,s)\n",
    "        elif x==\"Rectangle\":\n",
    "            l=int(input(\"Enter length: \"))\n",
    "            b=int(input(\"Enter breadth: \"))\n",
    "            area(x,l,b)\n",
    "        elif x==\"Parallelogram\":\n",
    "            b=int(input(\"Enter base: \"))\n",
    "            h=int(input(\"Enter height: \"))\n",
    "            area(x,b,h)\n",
    "        elif x==\"Rhombus\":\n",
    "            d1=int(input(\"Enter diagonal 1: \"))\n",
    "            d2=int(input(\"Enter diagonal 2: \"))\n",
    "            area(x,d1,d2)\n",
    "        else:\n",
    "            pass\n",
    "    elif c==2:\n",
    "        x=input(\"Enter the type of quadrilateral: \")\n",
    "        if (x==\"Square\") or (x==\"Rhombus\"):\n",
    "            s=int(input(\"Enter side: \"))\n",
    "            perimeter(x,s)\n",
    "        elif (x==\"Rectangle\") or (x==\"Parallelogram\"):\n",
    "            l=int(input(\"Enter length: \"))\n",
    "            b=int(input(\"Enter breadth: \"))\n",
    "            perimeter(x,l,b)\n",
    "        else:\n",
    "            pass\n",
    "    else:\n",
    "        break"
   ]
  },
  {
   "cell_type": "code",
   "execution_count": null,
   "metadata": {},
   "outputs": [],
   "source": []
  }
 ],
 "metadata": {
  "kernelspec": {
   "display_name": "Python 3",
   "language": "python",
   "name": "python3"
  },
  "language_info": {
   "codemirror_mode": {
    "name": "ipython",
    "version": 3
   },
   "file_extension": ".py",
   "mimetype": "text/x-python",
   "name": "python",
   "nbconvert_exporter": "python",
   "pygments_lexer": "ipython3",
   "version": "3.7.3"
  }
 },
 "nbformat": 4,
 "nbformat_minor": 2
}
